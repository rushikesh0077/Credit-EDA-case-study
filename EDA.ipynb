{
 "cells": [
  {
   "cell_type": "code",
   "execution_count": 261,
   "id": "d5e5a0d4",
   "metadata": {},
   "outputs": [],
   "source": [
    "import numpy as np\n",
    "import pandas as pd\n",
    "import matplotlib.pyplot as plt\n",
    "import seaborn as sns\n",
    "import warnings\n",
    "warnings.filterwarnings('ignore')"
   ]
  },
  {
   "cell_type": "code",
   "execution_count": 262,
   "id": "86da680c",
   "metadata": {},
   "outputs": [
    {
     "data": {
      "text/html": [
       "<div>\n",
       "<style scoped>\n",
       "    .dataframe tbody tr th:only-of-type {\n",
       "        vertical-align: middle;\n",
       "    }\n",
       "\n",
       "    .dataframe tbody tr th {\n",
       "        vertical-align: top;\n",
       "    }\n",
       "\n",
       "    .dataframe thead th {\n",
       "        text-align: right;\n",
       "    }\n",
       "</style>\n",
       "<table border=\"1\" class=\"dataframe\">\n",
       "  <thead>\n",
       "    <tr style=\"text-align: right;\">\n",
       "      <th></th>\n",
       "      <th>SK_ID_CURR</th>\n",
       "      <th>TARGET</th>\n",
       "      <th>NAME_CONTRACT_TYPE</th>\n",
       "      <th>CODE_GENDER</th>\n",
       "      <th>FLAG_OWN_CAR</th>\n",
       "      <th>FLAG_OWN_REALTY</th>\n",
       "      <th>CNT_CHILDREN</th>\n",
       "      <th>AMT_INCOME_TOTAL</th>\n",
       "      <th>AMT_CREDIT</th>\n",
       "      <th>AMT_ANNUITY</th>\n",
       "      <th>...</th>\n",
       "      <th>FLAG_DOCUMENT_18</th>\n",
       "      <th>FLAG_DOCUMENT_19</th>\n",
       "      <th>FLAG_DOCUMENT_20</th>\n",
       "      <th>FLAG_DOCUMENT_21</th>\n",
       "      <th>AMT_REQ_CREDIT_BUREAU_HOUR</th>\n",
       "      <th>AMT_REQ_CREDIT_BUREAU_DAY</th>\n",
       "      <th>AMT_REQ_CREDIT_BUREAU_WEEK</th>\n",
       "      <th>AMT_REQ_CREDIT_BUREAU_MON</th>\n",
       "      <th>AMT_REQ_CREDIT_BUREAU_QRT</th>\n",
       "      <th>AMT_REQ_CREDIT_BUREAU_YEAR</th>\n",
       "    </tr>\n",
       "  </thead>\n",
       "  <tbody>\n",
       "    <tr>\n",
       "      <th>0</th>\n",
       "      <td>100002</td>\n",
       "      <td>1</td>\n",
       "      <td>Cash loans</td>\n",
       "      <td>M</td>\n",
       "      <td>N</td>\n",
       "      <td>Y</td>\n",
       "      <td>0</td>\n",
       "      <td>202500.0</td>\n",
       "      <td>406597.5</td>\n",
       "      <td>24700.5</td>\n",
       "      <td>...</td>\n",
       "      <td>0</td>\n",
       "      <td>0</td>\n",
       "      <td>0</td>\n",
       "      <td>0</td>\n",
       "      <td>0.0</td>\n",
       "      <td>0.0</td>\n",
       "      <td>0.0</td>\n",
       "      <td>0.0</td>\n",
       "      <td>0.0</td>\n",
       "      <td>1.0</td>\n",
       "    </tr>\n",
       "    <tr>\n",
       "      <th>1</th>\n",
       "      <td>100003</td>\n",
       "      <td>0</td>\n",
       "      <td>Cash loans</td>\n",
       "      <td>F</td>\n",
       "      <td>N</td>\n",
       "      <td>N</td>\n",
       "      <td>0</td>\n",
       "      <td>270000.0</td>\n",
       "      <td>1293502.5</td>\n",
       "      <td>35698.5</td>\n",
       "      <td>...</td>\n",
       "      <td>0</td>\n",
       "      <td>0</td>\n",
       "      <td>0</td>\n",
       "      <td>0</td>\n",
       "      <td>0.0</td>\n",
       "      <td>0.0</td>\n",
       "      <td>0.0</td>\n",
       "      <td>0.0</td>\n",
       "      <td>0.0</td>\n",
       "      <td>0.0</td>\n",
       "    </tr>\n",
       "    <tr>\n",
       "      <th>2</th>\n",
       "      <td>100004</td>\n",
       "      <td>0</td>\n",
       "      <td>Revolving loans</td>\n",
       "      <td>M</td>\n",
       "      <td>Y</td>\n",
       "      <td>Y</td>\n",
       "      <td>0</td>\n",
       "      <td>67500.0</td>\n",
       "      <td>135000.0</td>\n",
       "      <td>6750.0</td>\n",
       "      <td>...</td>\n",
       "      <td>0</td>\n",
       "      <td>0</td>\n",
       "      <td>0</td>\n",
       "      <td>0</td>\n",
       "      <td>0.0</td>\n",
       "      <td>0.0</td>\n",
       "      <td>0.0</td>\n",
       "      <td>0.0</td>\n",
       "      <td>0.0</td>\n",
       "      <td>0.0</td>\n",
       "    </tr>\n",
       "    <tr>\n",
       "      <th>3</th>\n",
       "      <td>100006</td>\n",
       "      <td>0</td>\n",
       "      <td>Cash loans</td>\n",
       "      <td>F</td>\n",
       "      <td>N</td>\n",
       "      <td>Y</td>\n",
       "      <td>0</td>\n",
       "      <td>135000.0</td>\n",
       "      <td>312682.5</td>\n",
       "      <td>29686.5</td>\n",
       "      <td>...</td>\n",
       "      <td>0</td>\n",
       "      <td>0</td>\n",
       "      <td>0</td>\n",
       "      <td>0</td>\n",
       "      <td>NaN</td>\n",
       "      <td>NaN</td>\n",
       "      <td>NaN</td>\n",
       "      <td>NaN</td>\n",
       "      <td>NaN</td>\n",
       "      <td>NaN</td>\n",
       "    </tr>\n",
       "    <tr>\n",
       "      <th>4</th>\n",
       "      <td>100007</td>\n",
       "      <td>0</td>\n",
       "      <td>Cash loans</td>\n",
       "      <td>M</td>\n",
       "      <td>N</td>\n",
       "      <td>Y</td>\n",
       "      <td>0</td>\n",
       "      <td>121500.0</td>\n",
       "      <td>513000.0</td>\n",
       "      <td>21865.5</td>\n",
       "      <td>...</td>\n",
       "      <td>0</td>\n",
       "      <td>0</td>\n",
       "      <td>0</td>\n",
       "      <td>0</td>\n",
       "      <td>0.0</td>\n",
       "      <td>0.0</td>\n",
       "      <td>0.0</td>\n",
       "      <td>0.0</td>\n",
       "      <td>0.0</td>\n",
       "      <td>0.0</td>\n",
       "    </tr>\n",
       "  </tbody>\n",
       "</table>\n",
       "<p>5 rows × 122 columns</p>\n",
       "</div>"
      ],
      "text/plain": [
       "   SK_ID_CURR  TARGET NAME_CONTRACT_TYPE CODE_GENDER FLAG_OWN_CAR  \\\n",
       "0      100002       1         Cash loans           M            N   \n",
       "1      100003       0         Cash loans           F            N   \n",
       "2      100004       0    Revolving loans           M            Y   \n",
       "3      100006       0         Cash loans           F            N   \n",
       "4      100007       0         Cash loans           M            N   \n",
       "\n",
       "  FLAG_OWN_REALTY  CNT_CHILDREN  AMT_INCOME_TOTAL  AMT_CREDIT  AMT_ANNUITY  \\\n",
       "0               Y             0          202500.0    406597.5      24700.5   \n",
       "1               N             0          270000.0   1293502.5      35698.5   \n",
       "2               Y             0           67500.0    135000.0       6750.0   \n",
       "3               Y             0          135000.0    312682.5      29686.5   \n",
       "4               Y             0          121500.0    513000.0      21865.5   \n",
       "\n",
       "   ...  FLAG_DOCUMENT_18 FLAG_DOCUMENT_19 FLAG_DOCUMENT_20 FLAG_DOCUMENT_21  \\\n",
       "0  ...                 0                0                0                0   \n",
       "1  ...                 0                0                0                0   \n",
       "2  ...                 0                0                0                0   \n",
       "3  ...                 0                0                0                0   \n",
       "4  ...                 0                0                0                0   \n",
       "\n",
       "  AMT_REQ_CREDIT_BUREAU_HOUR AMT_REQ_CREDIT_BUREAU_DAY  \\\n",
       "0                        0.0                       0.0   \n",
       "1                        0.0                       0.0   \n",
       "2                        0.0                       0.0   \n",
       "3                        NaN                       NaN   \n",
       "4                        0.0                       0.0   \n",
       "\n",
       "   AMT_REQ_CREDIT_BUREAU_WEEK  AMT_REQ_CREDIT_BUREAU_MON  \\\n",
       "0                         0.0                        0.0   \n",
       "1                         0.0                        0.0   \n",
       "2                         0.0                        0.0   \n",
       "3                         NaN                        NaN   \n",
       "4                         0.0                        0.0   \n",
       "\n",
       "   AMT_REQ_CREDIT_BUREAU_QRT  AMT_REQ_CREDIT_BUREAU_YEAR  \n",
       "0                        0.0                         1.0  \n",
       "1                        0.0                         0.0  \n",
       "2                        0.0                         0.0  \n",
       "3                        NaN                         NaN  \n",
       "4                        0.0                         0.0  \n",
       "\n",
       "[5 rows x 122 columns]"
      ]
     },
     "execution_count": 262,
     "metadata": {},
     "output_type": "execute_result"
    }
   ],
   "source": [
    "#load the data\n",
    "app = pd.read_csv(\"application_data.csv\")\n",
    "app.head()"
   ]
  },
  {
   "cell_type": "code",
   "execution_count": 263,
   "id": "a417f831",
   "metadata": {},
   "outputs": [
    {
     "data": {
      "text/plain": [
       "69.87229725115525"
      ]
     },
     "execution_count": 263,
     "metadata": {},
     "output_type": "execute_result"
    }
   ],
   "source": [
    "#find the percentage of missing values in data\n",
    "a = len(app)\n",
    "null = app.isnull().sum()/a*100\n",
    "null.max()"
   ]
  },
  {
   "cell_type": "code",
   "execution_count": 264,
   "id": "d00b228b",
   "metadata": {},
   "outputs": [],
   "source": [
    "#drop all the columns which have null values more than 45%\n",
    "drop = null[null>45].index\n",
    "app.drop(drop,axis = 1 ,inplace = True)"
   ]
  },
  {
   "cell_type": "code",
   "execution_count": 265,
   "id": "a0bf1d52",
   "metadata": {},
   "outputs": [
    {
     "data": {
      "text/plain": [
       "(307511, 73)"
      ]
     },
     "execution_count": 265,
     "metadata": {},
     "output_type": "execute_result"
    }
   ],
   "source": [
    "app.shape"
   ]
  },
  {
   "cell_type": "code",
   "execution_count": 266,
   "id": "4d7f7aa5",
   "metadata": {},
   "outputs": [
    {
     "data": {
      "text/plain": [
       "96391"
      ]
     },
     "execution_count": 266,
     "metadata": {},
     "output_type": "execute_result"
    }
   ],
   "source": [
    "#find other null values\n",
    "app.isnull().sum().max()"
   ]
  },
  {
   "cell_type": "code",
   "execution_count": 267,
   "id": "ee18dba7",
   "metadata": {},
   "outputs": [
    {
     "data": {
      "text/plain": [
       "SK_ID_CURR                     0.000000\n",
       "TARGET                         0.000000\n",
       "NAME_CONTRACT_TYPE             0.000000\n",
       "CODE_GENDER                    0.000000\n",
       "FLAG_OWN_CAR                   0.000000\n",
       "                                ...    \n",
       "AMT_REQ_CREDIT_BUREAU_DAY     13.501631\n",
       "AMT_REQ_CREDIT_BUREAU_WEEK    13.501631\n",
       "AMT_REQ_CREDIT_BUREAU_MON     13.501631\n",
       "AMT_REQ_CREDIT_BUREAU_QRT     13.501631\n",
       "AMT_REQ_CREDIT_BUREAU_YEAR    13.501631\n",
       "Length: 73, dtype: float64"
      ]
     },
     "execution_count": 267,
     "metadata": {},
     "output_type": "execute_result"
    }
   ],
   "source": [
    "#still data have lots of null values lets drop all null records which are more tham  %\n",
    "a = len(app)\n",
    "null1 = app.isnull().sum()/a*100\n",
    "null1"
   ]
  },
  {
   "cell_type": "code",
   "execution_count": 268,
   "id": "ac439856",
   "metadata": {},
   "outputs": [
    {
     "data": {
      "text/plain": [
       "OCCUPATION_TYPE               31.345545\n",
       "EXT_SOURCE_3                  19.825307\n",
       "AMT_REQ_CREDIT_BUREAU_YEAR    13.501631\n",
       "AMT_REQ_CREDIT_BUREAU_QRT     13.501631\n",
       "AMT_REQ_CREDIT_BUREAU_MON     13.501631\n",
       "AMT_REQ_CREDIT_BUREAU_WEEK    13.501631\n",
       "AMT_REQ_CREDIT_BUREAU_DAY     13.501631\n",
       "AMT_REQ_CREDIT_BUREAU_HOUR    13.501631\n",
       "NAME_TYPE_SUITE                0.420148\n",
       "OBS_30_CNT_SOCIAL_CIRCLE       0.332021\n",
       "DEF_30_CNT_SOCIAL_CIRCLE       0.332021\n",
       "OBS_60_CNT_SOCIAL_CIRCLE       0.332021\n",
       "DEF_60_CNT_SOCIAL_CIRCLE       0.332021\n",
       "EXT_SOURCE_2                   0.214626\n",
       "AMT_GOODS_PRICE                0.090403\n",
       "AMT_ANNUITY                    0.003902\n",
       "CNT_FAM_MEMBERS                0.000650\n",
       "DAYS_LAST_PHONE_CHANGE         0.000325\n",
       "FLAG_DOCUMENT_17               0.000000\n",
       "FLAG_DOCUMENT_18               0.000000\n",
       "dtype: float64"
      ]
     },
     "execution_count": 268,
     "metadata": {},
     "output_type": "execute_result"
    }
   ],
   "source": [
    "null1.sort_values(ascending = False).head(20)"
   ]
  },
  {
   "cell_type": "code",
   "execution_count": 269,
   "id": "040fd7ad",
   "metadata": {},
   "outputs": [
    {
     "data": {
      "text/plain": [
       "0"
      ]
     },
     "execution_count": 269,
     "metadata": {},
     "output_type": "execute_result"
    }
   ],
   "source": [
    "#Fill remailning NA values\n",
    "#First fill NA values in OCCUPATION_TYPE \n",
    "# OCCUPATION_TYPE is categorical type column so mode or another category is suitable in this case mode is suitable\n",
    "app['OCCUPATION_TYPE'].mode()[0]\n",
    "app['OCCUPATION_TYPE'].fillna(app['OCCUPATION_TYPE'].mode()[0],inplace = True)\n",
    "app['OCCUPATION_TYPE'].isnull().sum()"
   ]
  },
  {
   "cell_type": "code",
   "execution_count": 270,
   "id": "75982539",
   "metadata": {},
   "outputs": [
    {
     "data": {
      "text/plain": [
       "<AxesSubplot:xlabel='EXT_SOURCE_3'>"
      ]
     },
     "execution_count": 270,
     "metadata": {},
     "output_type": "execute_result"
    },
    {
     "data": {
      "image/png": "[encoded data removed]",
      "text/plain": [
       "<Figure size 432x288 with 1 Axes>"
      ]
     },
     "metadata": {
      "needs_background": "light"
     },
     "output_type": "display_data"
    }
   ],
   "source": [
    "#Fill NA values in EXT_SOURCE_3 \n",
    "#As EXT_SOURCE_3 is continuos data column fill either by median or by mean\n",
    "#first check for outliers\n",
    "sns.boxplot(app['EXT_SOURCE_3'])"
   ]
  },
  {
   "cell_type": "code",
   "execution_count": 271,
   "id": "a2c33f35",
   "metadata": {},
   "outputs": [
    {
     "data": {
      "text/plain": [
       "0.5108529061800121"
      ]
     },
     "execution_count": 271,
     "metadata": {},
     "output_type": "execute_result"
    }
   ],
   "source": [
    "#As there are no outliers lets fill EXT_SOURCE_3 by median\n",
    "app['EXT_SOURCE_3'].median()\n",
    "app['EXT_SOURCE_3'].mean()\n",
    "# as there is negligible difference in mean and median we fill na by one of the here we choose median to fill Na"
   ]
  },
  {
   "cell_type": "code",
   "execution_count": 272,
   "id": "c8f36c05",
   "metadata": {},
   "outputs": [],
   "source": [
    "app['EXT_SOURCE_3'].fillna(app['EXT_SOURCE_3'].median(),inplace=True)"
   ]
  },
  {
   "cell_type": "code",
   "execution_count": 273,
   "id": "5ee253d7",
   "metadata": {},
   "outputs": [
    {
     "data": {
      "text/plain": [
       "0"
      ]
     },
     "execution_count": 273,
     "metadata": {},
     "output_type": "execute_result"
    }
   ],
   "source": [
    "app['EXT_SOURCE_3'].isnull().sum()"
   ]
  },
  {
   "cell_type": "code",
   "execution_count": 274,
   "id": "2b8475eb",
   "metadata": {},
   "outputs": [],
   "source": [
    "#Fill NAs in AMT_REQ_CREDIT_BUREAU_YEAR\n",
    "app['AMT_REQ_CREDIT_BUREAU_YEAR'].tail(50)\n",
    "#It seems to be there is no decimal value in this column lets fill this column with mode\n",
    "app['AMT_REQ_CREDIT_BUREAU_YEAR'].fillna(app['AMT_REQ_CREDIT_BUREAU_YEAR'].mode()[0],inplace = True)"
   ]
  },
  {
   "cell_type": "code",
   "execution_count": 275,
   "id": "b39048a9",
   "metadata": {},
   "outputs": [
    {
     "data": {
      "text/plain": [
       "0"
      ]
     },
     "execution_count": 275,
     "metadata": {},
     "output_type": "execute_result"
    }
   ],
   "source": [
    "app['AMT_REQ_CREDIT_BUREAU_YEAR'].isna().sum()"
   ]
  },
  {
   "cell_type": "code",
   "execution_count": 276,
   "id": "9479f456",
   "metadata": {},
   "outputs": [
    {
     "data": {
      "text/plain": [
       "0.0      215417\n",
       "1.0       33862\n",
       "2.0       14412\n",
       "3.0        1717\n",
       "4.0         476\n",
       "5.0          64\n",
       "6.0          28\n",
       "8.0           7\n",
       "7.0           7\n",
       "19.0          1\n",
       "261.0         1\n",
       "Name: AMT_REQ_CREDIT_BUREAU_QRT, dtype: int64"
      ]
     },
     "execution_count": 276,
     "metadata": {},
     "output_type": "execute_result"
    }
   ],
   "source": [
    "# Fill NA values in AMT_REQ_CREDIT_BUREAU_QRT column\n",
    "app['AMT_REQ_CREDIT_BUREAU_QRT'].value_counts()"
   ]
  },
  {
   "cell_type": "code",
   "execution_count": 277,
   "id": "33bf2f24",
   "metadata": {},
   "outputs": [
    {
     "data": {
      "text/plain": [
       "<AxesSubplot:xlabel='AMT_REQ_CREDIT_BUREAU_QRT'>"
      ]
     },
     "execution_count": 277,
     "metadata": {},
     "output_type": "execute_result"
    },
    {
     "data": {
      "image/png": "[encoded data removed]",
      "text/plain": [
       "<Figure size 432x288 with 1 Axes>"
      ]
     },
     "metadata": {
      "needs_background": "light"
     },
     "output_type": "display_data"
    }
   ],
   "source": [
    "#check for outliers in AMT_REQ_CREDIT_BUREAU_QRT\n",
    "sns.boxplot(app['AMT_REQ_CREDIT_BUREAU_QRT'])"
   ]
  },
  {
   "cell_type": "code",
   "execution_count": 278,
   "id": "4c985362",
   "metadata": {},
   "outputs": [],
   "source": [
    "#as outlier is present in dataset we need to fill column by median\n",
    "app['AMT_REQ_CREDIT_BUREAU_QRT'].fillna(app['AMT_REQ_CREDIT_BUREAU_QRT'].median(),inplace = True)"
   ]
  },
  {
   "cell_type": "code",
   "execution_count": 279,
   "id": "230ad07a",
   "metadata": {},
   "outputs": [
    {
     "data": {
      "text/plain": [
       "0"
      ]
     },
     "execution_count": 279,
     "metadata": {},
     "output_type": "execute_result"
    }
   ],
   "source": [
    "app['AMT_REQ_CREDIT_BUREAU_QRT'].isnull().sum()"
   ]
  },
  {
   "cell_type": "code",
   "execution_count": 280,
   "id": "bd8340f2",
   "metadata": {},
   "outputs": [
    {
     "data": {
      "text/plain": [
       "0.0     222233\n",
       "1.0      33147\n",
       "2.0       5386\n",
       "3.0       1991\n",
       "4.0       1076\n",
       "5.0        602\n",
       "6.0        343\n",
       "7.0        298\n",
       "9.0        206\n",
       "8.0        185\n",
       "10.0       132\n",
       "11.0       119\n",
       "12.0        77\n",
       "13.0        72\n",
       "14.0        40\n",
       "15.0        35\n",
       "16.0        23\n",
       "17.0        14\n",
       "18.0         6\n",
       "19.0         3\n",
       "27.0         1\n",
       "22.0         1\n",
       "23.0         1\n",
       "24.0         1\n",
       "Name: AMT_REQ_CREDIT_BUREAU_MON, dtype: int64"
      ]
     },
     "execution_count": 280,
     "metadata": {},
     "output_type": "execute_result"
    }
   ],
   "source": [
    "#Fill NA values in AMT_REQ_CREDIT_BUREAU_MON\n",
    "app['AMT_REQ_CREDIT_BUREAU_MON'].tail(20)\n",
    "app['AMT_REQ_CREDIT_BUREAU_MON'].value_counts()"
   ]
  },
  {
   "cell_type": "code",
   "execution_count": 281,
   "id": "3da87524",
   "metadata": {},
   "outputs": [
    {
     "data": {
      "text/plain": [
       "<AxesSubplot:xlabel='AMT_REQ_CREDIT_BUREAU_MON'>"
      ]
     },
     "execution_count": 281,
     "metadata": {},
     "output_type": "execute_result"
    },
    {
     "data": {
      "image/png": "[encoded data removed]",
      "text/plain": [
       "<Figure size 432x288 with 1 Axes>"
      ]
     },
     "metadata": {
      "needs_background": "light"
     },
     "output_type": "display_data"
    }
   ],
   "source": [
    "#Check for outliers\n",
    "sns.boxplot(app['AMT_REQ_CREDIT_BUREAU_MON'])"
   ]
  },
  {
   "cell_type": "code",
   "execution_count": 282,
   "id": "f06ad202",
   "metadata": {},
   "outputs": [],
   "source": [
    "#as there is not much effect of outliers on data we fill it with median\n",
    "app['AMT_REQ_CREDIT_BUREAU_MON'].fillna(app['AMT_REQ_CREDIT_BUREAU_MON'].median(),inplace = True)"
   ]
  },
  {
   "cell_type": "code",
   "execution_count": 283,
   "id": "715d05d2",
   "metadata": {},
   "outputs": [
    {
     "data": {
      "text/plain": [
       "0"
      ]
     },
     "execution_count": 283,
     "metadata": {},
     "output_type": "execute_result"
    }
   ],
   "source": [
    "app['AMT_REQ_CREDIT_BUREAU_MON'].isnull().sum()"
   ]
  },
  {
   "cell_type": "code",
   "execution_count": 284,
   "id": "e51c1c4e",
   "metadata": {},
   "outputs": [
    {
     "data": {
      "text/plain": [
       "0.0    257456\n",
       "1.0      8208\n",
       "2.0       199\n",
       "3.0        58\n",
       "4.0        34\n",
       "6.0        20\n",
       "5.0        10\n",
       "8.0         5\n",
       "7.0         2\n",
       "Name: AMT_REQ_CREDIT_BUREAU_WEEK, dtype: int64"
      ]
     },
     "execution_count": 284,
     "metadata": {},
     "output_type": "execute_result"
    }
   ],
   "source": [
    "#Fill NA values in AMT_REQ_CREDIT_BUREAU_WEEK\n",
    "app['AMT_REQ_CREDIT_BUREAU_WEEK'].tail(20)\n",
    "app['AMT_REQ_CREDIT_BUREAU_WEEK'].value_counts()"
   ]
  },
  {
   "cell_type": "code",
   "execution_count": 285,
   "id": "a9433d3e",
   "metadata": {},
   "outputs": [],
   "source": [
    "# as there is no decimal values in entire column so we fill it by median value\n",
    "app['AMT_REQ_CREDIT_BUREAU_WEEK'].fillna(app['AMT_REQ_CREDIT_BUREAU_WEEK'].median(),inplace = True)"
   ]
  },
  {
   "cell_type": "code",
   "execution_count": 286,
   "id": "4dcb416f",
   "metadata": {},
   "outputs": [
    {
     "data": {
      "text/plain": [
       "0"
      ]
     },
     "execution_count": 286,
     "metadata": {},
     "output_type": "execute_result"
    }
   ],
   "source": [
    "app['AMT_REQ_CREDIT_BUREAU_WEEK'].isnull().sum()"
   ]
  },
  {
   "cell_type": "code",
   "execution_count": 287,
   "id": "c3f5c490",
   "metadata": {},
   "outputs": [
    {
     "data": {
      "text/plain": [
       "0.0    264503\n",
       "1.0      1292\n",
       "2.0       106\n",
       "3.0        45\n",
       "4.0        26\n",
       "5.0         9\n",
       "6.0         8\n",
       "9.0         2\n",
       "8.0         1\n",
       "Name: AMT_REQ_CREDIT_BUREAU_DAY, dtype: int64"
      ]
     },
     "execution_count": 287,
     "metadata": {},
     "output_type": "execute_result"
    }
   ],
   "source": [
    "#Fill NA values in AMT_REQ_CREDIT_BUREAU_DAY\n",
    "app['AMT_REQ_CREDIT_BUREAU_DAY'].tail(25)\n",
    "app['AMT_REQ_CREDIT_BUREAU_DAY'].value_counts()"
   ]
  },
  {
   "cell_type": "code",
   "execution_count": 288,
   "id": "5c6bf614",
   "metadata": {},
   "outputs": [
    {
     "data": {
      "text/plain": [
       "<AxesSubplot:xlabel='AMT_REQ_CREDIT_BUREAU_DAY'>"
      ]
     },
     "execution_count": 288,
     "metadata": {},
     "output_type": "execute_result"
    },
    {
     "data": {
      "image/png": "[encoded data removed]",
      "text/plain": [
       "<Figure size 432x288 with 1 Axes>"
      ]
     },
     "metadata": {
      "needs_background": "light"
     },
     "output_type": "display_data"
    }
   ],
   "source": [
    "#Check for outliers\n",
    "sns.boxplot(app['AMT_REQ_CREDIT_BUREAU_DAY'])"
   ]
  },
  {
   "cell_type": "code",
   "execution_count": 289,
   "id": "2c9be533",
   "metadata": {},
   "outputs": [],
   "source": [
    "# as outliers are close together we can fill NA values with median or mean in this case we choose median as there is no decimal value in column\n",
    "app['AMT_REQ_CREDIT_BUREAU_DAY'].fillna(app['AMT_REQ_CREDIT_BUREAU_DAY'].median(),inplace = True)"
   ]
  },
  {
   "cell_type": "code",
   "execution_count": 290,
   "id": "1a823bc2",
   "metadata": {},
   "outputs": [
    {
     "data": {
      "text/plain": [
       "0"
      ]
     },
     "execution_count": 290,
     "metadata": {},
     "output_type": "execute_result"
    }
   ],
   "source": [
    "app['AMT_REQ_CREDIT_BUREAU_DAY'].isnull().sum()"
   ]
  },
  {
   "cell_type": "code",
   "execution_count": 291,
   "id": "f3d09119",
   "metadata": {},
   "outputs": [
    {
     "data": {
      "text/plain": [
       "0.0    264366\n",
       "1.0      1560\n",
       "2.0        56\n",
       "3.0         9\n",
       "4.0         1\n",
       "Name: AMT_REQ_CREDIT_BUREAU_HOUR, dtype: int64"
      ]
     },
     "execution_count": 291,
     "metadata": {},
     "output_type": "execute_result"
    }
   ],
   "source": [
    "#Fill NA values in AMT_REQ_CREDIT_BUREAU_HOUR\n",
    "app['AMT_REQ_CREDIT_BUREAU_HOUR'].value_counts()"
   ]
  },
  {
   "cell_type": "code",
   "execution_count": 292,
   "id": "59ab8345",
   "metadata": {},
   "outputs": [],
   "source": [
    "#in this case we need to fill NAs with median\n",
    "app['AMT_REQ_CREDIT_BUREAU_HOUR'].fillna(app['AMT_REQ_CREDIT_BUREAU_HOUR'].median,inplace = True)"
   ]
  },
  {
   "cell_type": "code",
   "execution_count": 293,
   "id": "6c6b626e",
   "metadata": {},
   "outputs": [
    {
     "data": {
      "text/plain": [
       "0"
      ]
     },
     "execution_count": 293,
     "metadata": {},
     "output_type": "execute_result"
    }
   ],
   "source": [
    "app['AMT_REQ_CREDIT_BUREAU_HOUR'].isnull().sum()"
   ]
  },
  {
   "cell_type": "code",
   "execution_count": 294,
   "id": "0f8c3de1",
   "metadata": {},
   "outputs": [
    {
     "data": {
      "text/plain": [
       "Unaccompanied      248526\n",
       "Family              40149\n",
       "Spouse, partner     11370\n",
       "Children             3267\n",
       "Other_B              1770\n",
       "Other_A               866\n",
       "Group of people       271\n",
       "Name: NAME_TYPE_SUITE, dtype: int64"
      ]
     },
     "execution_count": 294,
     "metadata": {},
     "output_type": "execute_result"
    }
   ],
   "source": [
    "#Fill NA in column NAME_TYPE_SUITE\n",
    "app['NAME_TYPE_SUITE'].value_counts()"
   ]
  },
  {
   "cell_type": "code",
   "execution_count": 295,
   "id": "90cf39be",
   "metadata": {},
   "outputs": [],
   "source": [
    "#As this column is categorical column we need to fill this one by mode\n",
    "app['NAME_TYPE_SUITE'].fillna(app['NAME_TYPE_SUITE'].mode()[0],inplace = True)"
   ]
  },
  {
   "cell_type": "code",
   "execution_count": 296,
   "id": "f3c19d29",
   "metadata": {},
   "outputs": [
    {
     "data": {
      "text/plain": [
       "0"
      ]
     },
     "execution_count": 296,
     "metadata": {},
     "output_type": "execute_result"
    }
   ],
   "source": [
    "app['NAME_TYPE_SUITE'].isnull().sum()"
   ]
  },
  {
   "cell_type": "code",
   "execution_count": 297,
   "id": "86122529",
   "metadata": {},
   "outputs": [
    {
     "data": {
      "text/plain": [
       "0          351000.0\n",
       "1         1129500.0\n",
       "2          135000.0\n",
       "3          297000.0\n",
       "4          513000.0\n",
       "            ...    \n",
       "307506     225000.0\n",
       "307507     225000.0\n",
       "307508     585000.0\n",
       "307509     319500.0\n",
       "307510     675000.0\n",
       "Name: AMT_GOODS_PRICE, Length: 307511, dtype: float64"
      ]
     },
     "execution_count": 297,
     "metadata": {},
     "output_type": "execute_result"
    }
   ],
   "source": [
    "#Fill NA values in AMT_GOODS_PRICE\n",
    "app['AMT_GOODS_PRICE']"
   ]
  },
  {
   "cell_type": "code",
   "execution_count": 298,
   "id": "aa22ac96",
   "metadata": {},
   "outputs": [
    {
     "data": {
      "text/plain": [
       "<AxesSubplot:xlabel='AMT_GOODS_PRICE'>"
      ]
     },
     "execution_count": 298,
     "metadata": {},
     "output_type": "execute_result"
    },
    {
     "data": {
      "image/png": "[encoded data removed]",
      "text/plain": [
       "<Figure size 432x288 with 1 Axes>"
      ]
     },
     "metadata": {
      "needs_background": "light"
     },
     "output_type": "display_data"
    }
   ],
   "source": [
    "#Check for outliers\n",
    "sns.boxplot(app['AMT_GOODS_PRICE'])"
   ]
  },
  {
   "cell_type": "code",
   "execution_count": 299,
   "id": "75b7dc2d",
   "metadata": {},
   "outputs": [],
   "source": [
    "#As there are outliers are present we need to fill NAs with median so that analysis shold not be affect by them\n",
    "app['AMT_GOODS_PRICE'].fillna(app['AMT_GOODS_PRICE'].median(),inplace = True)"
   ]
  },
  {
   "cell_type": "code",
   "execution_count": 300,
   "id": "2ec1bad7",
   "metadata": {},
   "outputs": [
    {
     "data": {
      "text/plain": [
       "0"
      ]
     },
     "execution_count": 300,
     "metadata": {},
     "output_type": "execute_result"
    }
   ],
   "source": [
    "app['AMT_GOODS_PRICE'].isnull().sum()"
   ]
  },
  {
   "cell_type": "code",
   "execution_count": 301,
   "id": "0c8b2fb0",
   "metadata": {},
   "outputs": [],
   "source": [
    "app = app[~(app['OBS_30_CNT_SOCIAL_CIRCLE'].isnull())]"
   ]
  },
  {
   "cell_type": "code",
   "execution_count": 302,
   "id": "3f9d48ce",
   "metadata": {},
   "outputs": [
    {
     "data": {
      "text/plain": [
       "0"
      ]
     },
     "execution_count": 302,
     "metadata": {},
     "output_type": "execute_result"
    }
   ],
   "source": [
    "app['OBS_30_CNT_SOCIAL_CIRCLE'].isnull().sum()"
   ]
  },
  {
   "cell_type": "code",
   "execution_count": 303,
   "id": "4c8173e7",
   "metadata": {},
   "outputs": [],
   "source": [
    "app = app[~(app['DEF_30_CNT_SOCIAL_CIRCLE'].isnull())]"
   ]
  },
  {
   "cell_type": "code",
   "execution_count": 304,
   "id": "bb37294a",
   "metadata": {},
   "outputs": [
    {
     "data": {
      "text/plain": [
       "0"
      ]
     },
     "execution_count": 304,
     "metadata": {},
     "output_type": "execute_result"
    }
   ],
   "source": [
    "app['DEF_30_CNT_SOCIAL_CIRCLE'].isnull().sum()"
   ]
  },
  {
   "cell_type": "code",
   "execution_count": 305,
   "id": "384b8891",
   "metadata": {},
   "outputs": [],
   "source": [
    "app = app[~(app['OBS_60_CNT_SOCIAL_CIRCLE'].isnull())]"
   ]
  },
  {
   "cell_type": "code",
   "execution_count": 306,
   "id": "07999362",
   "metadata": {},
   "outputs": [
    {
     "data": {
      "text/plain": [
       "0"
      ]
     },
     "execution_count": 306,
     "metadata": {},
     "output_type": "execute_result"
    }
   ],
   "source": [
    "app['OBS_60_CNT_SOCIAL_CIRCLE'].isnull().sum()"
   ]
  },
  {
   "cell_type": "code",
   "execution_count": 307,
   "id": "21001fe2",
   "metadata": {},
   "outputs": [],
   "source": [
    "app = app[~(app['DEF_60_CNT_SOCIAL_CIRCLE'].isnull())]"
   ]
  },
  {
   "cell_type": "code",
   "execution_count": 308,
   "id": "5559a0c8",
   "metadata": {},
   "outputs": [
    {
     "data": {
      "text/plain": [
       "0"
      ]
     },
     "execution_count": 308,
     "metadata": {},
     "output_type": "execute_result"
    }
   ],
   "source": [
    "app['DEF_60_CNT_SOCIAL_CIRCLE'].isnull().sum()"
   ]
  },
  {
   "cell_type": "code",
   "execution_count": 309,
   "id": "be43b054",
   "metadata": {},
   "outputs": [],
   "source": [
    "app = app[~(app['EXT_SOURCE_2'].isnull())]"
   ]
  },
  {
   "cell_type": "code",
   "execution_count": 310,
   "id": "7ceb4617",
   "metadata": {},
   "outputs": [
    {
     "data": {
      "text/plain": [
       "0"
      ]
     },
     "execution_count": 310,
     "metadata": {},
     "output_type": "execute_result"
    }
   ],
   "source": [
    "app['EXT_SOURCE_2'].isnull().sum()"
   ]
  },
  {
   "cell_type": "code",
   "execution_count": 311,
   "id": "06d05704",
   "metadata": {},
   "outputs": [],
   "source": [
    "app = app[~(app['AMT_ANNUITY'].isnull())]"
   ]
  },
  {
   "cell_type": "code",
   "execution_count": 312,
   "id": "84de6e20",
   "metadata": {},
   "outputs": [
    {
     "data": {
      "text/plain": [
       "0"
      ]
     },
     "execution_count": 312,
     "metadata": {},
     "output_type": "execute_result"
    }
   ],
   "source": [
    "app['AMT_ANNUITY'].isnull().sum()"
   ]
  },
  {
   "cell_type": "code",
   "execution_count": 313,
   "id": "a8b8074d",
   "metadata": {},
   "outputs": [],
   "source": [
    "app = app[~(app['CNT_FAM_MEMBERS'].isnull())]"
   ]
  },
  {
   "cell_type": "code",
   "execution_count": 314,
   "id": "7b9f59bf",
   "metadata": {},
   "outputs": [
    {
     "data": {
      "text/plain": [
       "0"
      ]
     },
     "execution_count": 314,
     "metadata": {},
     "output_type": "execute_result"
    }
   ],
   "source": [
    "app['CNT_FAM_MEMBERS'].isnull().sum()"
   ]
  },
  {
   "cell_type": "code",
   "execution_count": 315,
   "id": "e99e4373",
   "metadata": {},
   "outputs": [],
   "source": [
    "app = app[~(app['DAYS_LAST_PHONE_CHANGE'].isnull())]"
   ]
  },
  {
   "cell_type": "code",
   "execution_count": 316,
   "id": "27afbfd4",
   "metadata": {},
   "outputs": [
    {
     "data": {
      "text/plain": [
       "0"
      ]
     },
     "execution_count": 316,
     "metadata": {},
     "output_type": "execute_result"
    }
   ],
   "source": [
    "app['DAYS_LAST_PHONE_CHANGE'].isnull().sum()"
   ]
  },
  {
   "cell_type": "code",
   "execution_count": 317,
   "id": "7ae05304",
   "metadata": {},
   "outputs": [
    {
     "data": {
      "text/plain": [
       "0"
      ]
     },
     "execution_count": 317,
     "metadata": {},
     "output_type": "execute_result"
    }
   ],
   "source": [
    "app.isnull().sum().max()\n",
    "#All null values are now handled"
   ]
  },
  {
   "cell_type": "code",
   "execution_count": 318,
   "id": "c5f1839a",
   "metadata": {},
   "outputs": [
    {
     "name": "stdout",
     "output_type": "stream",
     "text": [
      "<class 'pandas.core.frame.DataFrame'>\n",
      "Int64Index: 305820 entries, 0 to 307510\n",
      "Data columns (total 73 columns):\n",
      " #   Column                       Non-Null Count   Dtype  \n",
      "---  ------                       --------------   -----  \n",
      " 0   SK_ID_CURR                   305820 non-null  int64  \n",
      " 1   TARGET                       305820 non-null  int64  \n",
      " 2   NAME_CONTRACT_TYPE           305820 non-null  object \n",
      " 3   CODE_GENDER                  305820 non-null  object \n",
      " 4   FLAG_OWN_CAR                 305820 non-null  object \n",
      " 5   FLAG_OWN_REALTY              305820 non-null  object \n",
      " 6   CNT_CHILDREN                 305820 non-null  int64  \n",
      " 7   AMT_INCOME_TOTAL             305820 non-null  float64\n",
      " 8   AMT_CREDIT                   305820 non-null  float64\n",
      " 9   AMT_ANNUITY                  305820 non-null  float64\n",
      " 10  AMT_GOODS_PRICE              305820 non-null  float64\n",
      " 11  NAME_TYPE_SUITE              305820 non-null  object \n",
      " 12  NAME_INCOME_TYPE             305820 non-null  object \n",
      " 13  NAME_EDUCATION_TYPE          305820 non-null  object \n",
      " 14  NAME_FAMILY_STATUS           305820 non-null  object \n",
      " 15  NAME_HOUSING_TYPE            305820 non-null  object \n",
      " 16  REGION_POPULATION_RELATIVE   305820 non-null  float64\n",
      " 17  DAYS_BIRTH                   305820 non-null  int64  \n",
      " 18  DAYS_EMPLOYED                305820 non-null  int64  \n",
      " 19  DAYS_REGISTRATION            305820 non-null  float64\n",
      " 20  DAYS_ID_PUBLISH              305820 non-null  int64  \n",
      " 21  FLAG_MOBIL                   305820 non-null  int64  \n",
      " 22  FLAG_EMP_PHONE               305820 non-null  int64  \n",
      " 23  FLAG_WORK_PHONE              305820 non-null  int64  \n",
      " 24  FLAG_CONT_MOBILE             305820 non-null  int64  \n",
      " 25  FLAG_PHONE                   305820 non-null  int64  \n",
      " 26  FLAG_EMAIL                   305820 non-null  int64  \n",
      " 27  OCCUPATION_TYPE              305820 non-null  object \n",
      " 28  CNT_FAM_MEMBERS              305820 non-null  float64\n",
      " 29  REGION_RATING_CLIENT         305820 non-null  int64  \n",
      " 30  REGION_RATING_CLIENT_W_CITY  305820 non-null  int64  \n",
      " 31  WEEKDAY_APPR_PROCESS_START   305820 non-null  object \n",
      " 32  HOUR_APPR_PROCESS_START      305820 non-null  int64  \n",
      " 33  REG_REGION_NOT_LIVE_REGION   305820 non-null  int64  \n",
      " 34  REG_REGION_NOT_WORK_REGION   305820 non-null  int64  \n",
      " 35  LIVE_REGION_NOT_WORK_REGION  305820 non-null  int64  \n",
      " 36  REG_CITY_NOT_LIVE_CITY       305820 non-null  int64  \n",
      " 37  REG_CITY_NOT_WORK_CITY       305820 non-null  int64  \n",
      " 38  LIVE_CITY_NOT_WORK_CITY      305820 non-null  int64  \n",
      " 39  ORGANIZATION_TYPE            305820 non-null  object \n",
      " 40  EXT_SOURCE_2                 305820 non-null  float64\n",
      " 41  EXT_SOURCE_3                 305820 non-null  float64\n",
      " 42  OBS_30_CNT_SOCIAL_CIRCLE     305820 non-null  float64\n",
      " 43  DEF_30_CNT_SOCIAL_CIRCLE     305820 non-null  float64\n",
      " 44  OBS_60_CNT_SOCIAL_CIRCLE     305820 non-null  float64\n",
      " 45  DEF_60_CNT_SOCIAL_CIRCLE     305820 non-null  float64\n",
      " 46  DAYS_LAST_PHONE_CHANGE       305820 non-null  float64\n",
      " 47  FLAG_DOCUMENT_2              305820 non-null  int64  \n",
      " 48  FLAG_DOCUMENT_3              305820 non-null  int64  \n",
      " 49  FLAG_DOCUMENT_4              305820 non-null  int64  \n",
      " 50  FLAG_DOCUMENT_5              305820 non-null  int64  \n",
      " 51  FLAG_DOCUMENT_6              305820 non-null  int64  \n",
      " 52  FLAG_DOCUMENT_7              305820 non-null  int64  \n",
      " 53  FLAG_DOCUMENT_8              305820 non-null  int64  \n",
      " 54  FLAG_DOCUMENT_9              305820 non-null  int64  \n",
      " 55  FLAG_DOCUMENT_10             305820 non-null  int64  \n",
      " 56  FLAG_DOCUMENT_11             305820 non-null  int64  \n",
      " 57  FLAG_DOCUMENT_12             305820 non-null  int64  \n",
      " 58  FLAG_DOCUMENT_13             305820 non-null  int64  \n",
      " 59  FLAG_DOCUMENT_14             305820 non-null  int64  \n",
      " 60  FLAG_DOCUMENT_15             305820 non-null  int64  \n",
      " 61  FLAG_DOCUMENT_16             305820 non-null  int64  \n",
      " 62  FLAG_DOCUMENT_17             305820 non-null  int64  \n",
      " 63  FLAG_DOCUMENT_18             305820 non-null  int64  \n",
      " 64  FLAG_DOCUMENT_19             305820 non-null  int64  \n",
      " 65  FLAG_DOCUMENT_20             305820 non-null  int64  \n",
      " 66  FLAG_DOCUMENT_21             305820 non-null  int64  \n",
      " 67  AMT_REQ_CREDIT_BUREAU_HOUR   305820 non-null  object \n",
      " 68  AMT_REQ_CREDIT_BUREAU_DAY    305820 non-null  float64\n",
      " 69  AMT_REQ_CREDIT_BUREAU_WEEK   305820 non-null  float64\n",
      " 70  AMT_REQ_CREDIT_BUREAU_MON    305820 non-null  float64\n",
      " 71  AMT_REQ_CREDIT_BUREAU_QRT    305820 non-null  float64\n",
      " 72  AMT_REQ_CREDIT_BUREAU_YEAR   305820 non-null  float64\n",
      "dtypes: float64(19), int64(41), object(13)\n",
      "memory usage: 172.7+ MB\n"
     ]
    }
   ],
   "source": [
    "#check for data types of columns\n",
    "app.info()"
   ]
  },
  {
   "cell_type": "code",
   "execution_count": 319,
   "id": "2e185ae2",
   "metadata": {},
   "outputs": [
    {
     "data": {
      "text/plain": [
       "Cash loans         277620\n",
       "Revolving loans     28200\n",
       "Name: NAME_CONTRACT_TYPE, dtype: int64"
      ]
     },
     "execution_count": 319,
     "metadata": {},
     "output_type": "execute_result"
    }
   ],
   "source": [
    "app['NAME_CONTRACT_TYPE'].value_counts()"
   ]
  },
  {
   "cell_type": "code",
   "execution_count": 320,
   "id": "429bd2b9",
   "metadata": {},
   "outputs": [
    {
     "data": {
      "text/plain": [
       "0    -9461\n",
       "1   -16765\n",
       "2   -19046\n",
       "3   -19005\n",
       "4   -19932\n",
       "5   -16941\n",
       "6   -13778\n",
       "7   -18850\n",
       "8   -20099\n",
       "9   -14469\n",
       "Name: DAYS_BIRTH, dtype: int64"
      ]
     },
     "execution_count": 320,
     "metadata": {},
     "output_type": "execute_result"
    }
   ],
   "source": [
    "app['DAYS_BIRTH'].head(10)\n",
    "#AS DAYS_BIRTH is negative column we need to conver it into positive"
   ]
  },
  {
   "cell_type": "code",
   "execution_count": 321,
   "id": "b70c0ba7",
   "metadata": {},
   "outputs": [],
   "source": [
    "app['DAYS_BIRTH'] = app['DAYS_BIRTH'].abs()"
   ]
  },
  {
   "cell_type": "code",
   "execution_count": 322,
   "id": "6f8f1a23",
   "metadata": {},
   "outputs": [
    {
     "data": {
      "text/plain": [
       "0     9461\n",
       "1    16765\n",
       "2    19046\n",
       "3    19005\n",
       "4    19932\n",
       "5    16941\n",
       "6    13778\n",
       "7    18850\n",
       "8    20099\n",
       "9    14469\n",
       "Name: DAYS_BIRTH, dtype: int64"
      ]
     },
     "execution_count": 322,
     "metadata": {},
     "output_type": "execute_result"
    }
   ],
   "source": [
    "app['DAYS_BIRTH'].head(10)"
   ]
  },
  {
   "cell_type": "code",
   "execution_count": 323,
   "id": "8ffb85c3",
   "metadata": {},
   "outputs": [],
   "source": [
    "#As age of applicants is in days we need to calculate them in years\n",
    "app['Age_Years'] = app['DAYS_BIRTH'].apply(lambda x:x//365)"
   ]
  },
  {
   "cell_type": "code",
   "execution_count": 324,
   "id": "aa16fc15",
   "metadata": {},
   "outputs": [
    {
     "data": {
      "text/plain": [
       "0    25\n",
       "1    45\n",
       "2    52\n",
       "3    52\n",
       "4    54\n",
       "5    46\n",
       "6    37\n",
       "7    51\n",
       "8    55\n",
       "9    39\n",
       "Name: Age_Years, dtype: int64"
      ]
     },
     "execution_count": 324,
     "metadata": {},
     "output_type": "execute_result"
    }
   ],
   "source": [
    "app['Age_Years'].head(10)"
   ]
  },
  {
   "cell_type": "code",
   "execution_count": 325,
   "id": "8a000daf",
   "metadata": {},
   "outputs": [
    {
     "data": {
      "text/plain": [
       "0      -637\n",
       "1     -1188\n",
       "2      -225\n",
       "3     -3039\n",
       "4     -3038\n",
       "5     -1588\n",
       "6     -3130\n",
       "7      -449\n",
       "8    365243\n",
       "9     -2019\n",
       "Name: DAYS_EMPLOYED, dtype: int64"
      ]
     },
     "execution_count": 325,
     "metadata": {},
     "output_type": "execute_result"
    }
   ],
   "source": [
    "#Lets check other columns which contains days\n",
    "app['DAYS_EMPLOYED'].head(10)\n",
    "#DAYS_EMPLOYED column is also negative and contains data in days"
   ]
  },
  {
   "cell_type": "code",
   "execution_count": 326,
   "id": "90de7a56",
   "metadata": {},
   "outputs": [
    {
     "data": {
      "text/plain": [
       "0    -3648.0\n",
       "1    -1186.0\n",
       "2    -4260.0\n",
       "3    -9833.0\n",
       "4    -4311.0\n",
       "5    -4970.0\n",
       "6    -1213.0\n",
       "7    -4597.0\n",
       "8    -7427.0\n",
       "9   -14437.0\n",
       "Name: DAYS_REGISTRATION, dtype: float64"
      ]
     },
     "execution_count": 326,
     "metadata": {},
     "output_type": "execute_result"
    }
   ],
   "source": [
    "app['DAYS_REGISTRATION'].head(10)\n",
    "#DAYS_REGISTRATION column is also negative column and it contains data in days"
   ]
  },
  {
   "cell_type": "code",
   "execution_count": 327,
   "id": "5fc990e9",
   "metadata": {},
   "outputs": [
    {
     "data": {
      "text/plain": [
       "0   -2120\n",
       "1    -291\n",
       "2   -2531\n",
       "3   -2437\n",
       "4   -3458\n",
       "Name: DAYS_ID_PUBLISH, dtype: int64"
      ]
     },
     "execution_count": 327,
     "metadata": {},
     "output_type": "execute_result"
    }
   ],
   "source": [
    "app['DAYS_ID_PUBLISH'].head()\n",
    "#DAYS_ID_PUBLISH column is also negative column and it contains data in days"
   ]
  },
  {
   "cell_type": "code",
   "execution_count": 328,
   "id": "e751b247",
   "metadata": {},
   "outputs": [],
   "source": [
    "#lets convert them into positive columns\n",
    "app['DAYS_EMPLOYED'] = app['DAYS_EMPLOYED'].abs()\n",
    "app['DAYS_REGISTRATION'] = app['DAYS_REGISTRATION'].abs()\n",
    "app['DAYS_ID_PUBLISH'] = app['DAYS_ID_PUBLISH'].abs()"
   ]
  },
  {
   "cell_type": "code",
   "execution_count": 329,
   "id": "447bd333",
   "metadata": {},
   "outputs": [
    {
     "data": {
      "text/plain": [
       "0    2120\n",
       "1     291\n",
       "2    2531\n",
       "3    2437\n",
       "4    3458\n",
       "Name: DAYS_ID_PUBLISH, dtype: int64"
      ]
     },
     "execution_count": 329,
     "metadata": {},
     "output_type": "execute_result"
    }
   ],
   "source": [
    "app['DAYS_ID_PUBLISH'].head()"
   ]
  },
  {
   "cell_type": "code",
   "execution_count": 330,
   "id": "998cf0fd",
   "metadata": {},
   "outputs": [],
   "source": [
    "#Lets conver DAYS_EMPLOYED to years of employed\n",
    "app['Years_Employed'] = app['DAYS_EMPLOYED'].apply(lambda x:x//365)"
   ]
  },
  {
   "cell_type": "code",
   "execution_count": 331,
   "id": "2b615ec2",
   "metadata": {},
   "outputs": [],
   "source": [
    "#Lets conver DAYS_REGISTRATION to years of registration\n",
    "app['Years_Registration'] = app['DAYS_REGISTRATION'].apply(lambda x:x//365)"
   ]
  },
  {
   "cell_type": "code",
   "execution_count": 332,
   "id": "11a6131f",
   "metadata": {},
   "outputs": [
    {
     "data": {
      "text/plain": [
       "0     9.0\n",
       "1     3.0\n",
       "2    11.0\n",
       "3    26.0\n",
       "4    11.0\n",
       "Name: Years_Registration, dtype: float64"
      ]
     },
     "execution_count": 332,
     "metadata": {},
     "output_type": "execute_result"
    }
   ],
   "source": [
    "app['Years_Registration'].head()"
   ]
  },
  {
   "cell_type": "code",
   "execution_count": 333,
   "id": "16a6eb6d",
   "metadata": {},
   "outputs": [],
   "source": [
    "#convert DAYS_ID_PUBLISH to year of if publish\n",
    "app['Year_ID_publish']=app['DAYS_ID_PUBLISH'].apply(lambda x:x//365)"
   ]
  },
  {
   "cell_type": "code",
   "execution_count": 334,
   "id": "ec62a4d8",
   "metadata": {},
   "outputs": [
    {
     "data": {
      "text/plain": [
       "0    5\n",
       "1    0\n",
       "2    6\n",
       "3    6\n",
       "4    9\n",
       "Name: Year_ID_publish, dtype: int64"
      ]
     },
     "execution_count": 334,
     "metadata": {},
     "output_type": "execute_result"
    }
   ],
   "source": [
    "app['Year_ID_publish'].head()"
   ]
  },
  {
   "cell_type": "code",
   "execution_count": 335,
   "id": "7c9ccd32",
   "metadata": {},
   "outputs": [
    {
     "data": {
      "text/html": [
       "<div>\n",
       "<style scoped>\n",
       "    .dataframe tbody tr th:only-of-type {\n",
       "        vertical-align: middle;\n",
       "    }\n",
       "\n",
       "    .dataframe tbody tr th {\n",
       "        vertical-align: top;\n",
       "    }\n",
       "\n",
       "    .dataframe thead th {\n",
       "        text-align: right;\n",
       "    }\n",
       "</style>\n",
       "<table border=\"1\" class=\"dataframe\">\n",
       "  <thead>\n",
       "    <tr style=\"text-align: right;\">\n",
       "      <th></th>\n",
       "      <th>SK_ID_CURR</th>\n",
       "      <th>TARGET</th>\n",
       "      <th>CNT_CHILDREN</th>\n",
       "      <th>AMT_INCOME_TOTAL</th>\n",
       "      <th>AMT_CREDIT</th>\n",
       "      <th>AMT_ANNUITY</th>\n",
       "      <th>AMT_GOODS_PRICE</th>\n",
       "      <th>REGION_POPULATION_RELATIVE</th>\n",
       "      <th>DAYS_BIRTH</th>\n",
       "      <th>DAYS_EMPLOYED</th>\n",
       "      <th>...</th>\n",
       "      <th>FLAG_DOCUMENT_21</th>\n",
       "      <th>AMT_REQ_CREDIT_BUREAU_DAY</th>\n",
       "      <th>AMT_REQ_CREDIT_BUREAU_WEEK</th>\n",
       "      <th>AMT_REQ_CREDIT_BUREAU_MON</th>\n",
       "      <th>AMT_REQ_CREDIT_BUREAU_QRT</th>\n",
       "      <th>AMT_REQ_CREDIT_BUREAU_YEAR</th>\n",
       "      <th>Age_Years</th>\n",
       "      <th>Years_Employed</th>\n",
       "      <th>Years_Registration</th>\n",
       "      <th>Year_ID_publish</th>\n",
       "    </tr>\n",
       "  </thead>\n",
       "  <tbody>\n",
       "    <tr>\n",
       "      <th>count</th>\n",
       "      <td>305820.000000</td>\n",
       "      <td>305820.000000</td>\n",
       "      <td>305820.000000</td>\n",
       "      <td>3.058200e+05</td>\n",
       "      <td>3.058200e+05</td>\n",
       "      <td>305820.000000</td>\n",
       "      <td>3.058200e+05</td>\n",
       "      <td>305820.000000</td>\n",
       "      <td>305820.000000</td>\n",
       "      <td>305820.000000</td>\n",
       "      <td>...</td>\n",
       "      <td>305820.000000</td>\n",
       "      <td>305820.000000</td>\n",
       "      <td>305820.000000</td>\n",
       "      <td>305820.000000</td>\n",
       "      <td>305820.000000</td>\n",
       "      <td>305820.000000</td>\n",
       "      <td>305820.000000</td>\n",
       "      <td>305820.000000</td>\n",
       "      <td>305820.000000</td>\n",
       "      <td>305820.000000</td>\n",
       "    </tr>\n",
       "    <tr>\n",
       "      <th>mean</th>\n",
       "      <td>278188.472039</td>\n",
       "      <td>0.080887</td>\n",
       "      <td>0.417187</td>\n",
       "      <td>1.686781e+05</td>\n",
       "      <td>5.997873e+05</td>\n",
       "      <td>27132.676913</td>\n",
       "      <td>5.388654e+05</td>\n",
       "      <td>0.020845</td>\n",
       "      <td>16036.888353</td>\n",
       "      <td>67698.537195</td>\n",
       "      <td>...</td>\n",
       "      <td>0.000334</td>\n",
       "      <td>0.006056</td>\n",
       "      <td>0.029763</td>\n",
       "      <td>0.231496</td>\n",
       "      <td>0.230067</td>\n",
       "      <td>1.645605</td>\n",
       "      <td>43.435675</td>\n",
       "      <td>184.949742</td>\n",
       "      <td>13.165270</td>\n",
       "      <td>7.714548</td>\n",
       "    </tr>\n",
       "    <tr>\n",
       "      <th>std</th>\n",
       "      <td>102785.791346</td>\n",
       "      <td>0.272663</td>\n",
       "      <td>0.722324</td>\n",
       "      <td>2.374952e+05</td>\n",
       "      <td>4.026801e+05</td>\n",
       "      <td>14483.124889</td>\n",
       "      <td>3.694261e+05</td>\n",
       "      <td>0.013809</td>\n",
       "      <td>4363.116386</td>\n",
       "      <td>139421.301661</td>\n",
       "      <td>...</td>\n",
       "      <td>0.018260</td>\n",
       "      <td>0.102942</td>\n",
       "      <td>0.190593</td>\n",
       "      <td>0.856654</td>\n",
       "      <td>0.745010</td>\n",
       "      <td>1.856160</td>\n",
       "      <td>11.952230</td>\n",
       "      <td>381.910692</td>\n",
       "      <td>9.644208</td>\n",
       "      <td>4.134191</td>\n",
       "    </tr>\n",
       "    <tr>\n",
       "      <th>min</th>\n",
       "      <td>100002.000000</td>\n",
       "      <td>0.000000</td>\n",
       "      <td>0.000000</td>\n",
       "      <td>2.565000e+04</td>\n",
       "      <td>4.500000e+04</td>\n",
       "      <td>1615.500000</td>\n",
       "      <td>4.050000e+04</td>\n",
       "      <td>0.000290</td>\n",
       "      <td>7489.000000</td>\n",
       "      <td>0.000000</td>\n",
       "      <td>...</td>\n",
       "      <td>0.000000</td>\n",
       "      <td>0.000000</td>\n",
       "      <td>0.000000</td>\n",
       "      <td>0.000000</td>\n",
       "      <td>0.000000</td>\n",
       "      <td>0.000000</td>\n",
       "      <td>20.000000</td>\n",
       "      <td>0.000000</td>\n",
       "      <td>0.000000</td>\n",
       "      <td>0.000000</td>\n",
       "    </tr>\n",
       "    <tr>\n",
       "      <th>25%</th>\n",
       "      <td>189155.750000</td>\n",
       "      <td>0.000000</td>\n",
       "      <td>0.000000</td>\n",
       "      <td>1.125000e+05</td>\n",
       "      <td>2.700000e+05</td>\n",
       "      <td>16573.500000</td>\n",
       "      <td>2.385000e+05</td>\n",
       "      <td>0.010006</td>\n",
       "      <td>12413.000000</td>\n",
       "      <td>933.000000</td>\n",
       "      <td>...</td>\n",
       "      <td>0.000000</td>\n",
       "      <td>0.000000</td>\n",
       "      <td>0.000000</td>\n",
       "      <td>0.000000</td>\n",
       "      <td>0.000000</td>\n",
       "      <td>0.000000</td>\n",
       "      <td>34.000000</td>\n",
       "      <td>2.000000</td>\n",
       "      <td>5.000000</td>\n",
       "      <td>4.000000</td>\n",
       "    </tr>\n",
       "    <tr>\n",
       "      <th>50%</th>\n",
       "      <td>278210.500000</td>\n",
       "      <td>0.000000</td>\n",
       "      <td>0.000000</td>\n",
       "      <td>1.467607e+05</td>\n",
       "      <td>5.172660e+05</td>\n",
       "      <td>24939.000000</td>\n",
       "      <td>4.500000e+05</td>\n",
       "      <td>0.018850</td>\n",
       "      <td>15749.000000</td>\n",
       "      <td>2219.000000</td>\n",
       "      <td>...</td>\n",
       "      <td>0.000000</td>\n",
       "      <td>0.000000</td>\n",
       "      <td>0.000000</td>\n",
       "      <td>0.000000</td>\n",
       "      <td>0.000000</td>\n",
       "      <td>1.000000</td>\n",
       "      <td>43.000000</td>\n",
       "      <td>6.000000</td>\n",
       "      <td>12.000000</td>\n",
       "      <td>8.000000</td>\n",
       "    </tr>\n",
       "    <tr>\n",
       "      <th>75%</th>\n",
       "      <td>367152.500000</td>\n",
       "      <td>0.000000</td>\n",
       "      <td>1.000000</td>\n",
       "      <td>2.025000e+05</td>\n",
       "      <td>8.086500e+05</td>\n",
       "      <td>34614.000000</td>\n",
       "      <td>6.795000e+05</td>\n",
       "      <td>0.028663</td>\n",
       "      <td>19679.000000</td>\n",
       "      <td>5706.000000</td>\n",
       "      <td>...</td>\n",
       "      <td>0.000000</td>\n",
       "      <td>0.000000</td>\n",
       "      <td>0.000000</td>\n",
       "      <td>0.000000</td>\n",
       "      <td>0.000000</td>\n",
       "      <td>3.000000</td>\n",
       "      <td>53.000000</td>\n",
       "      <td>15.000000</td>\n",
       "      <td>20.000000</td>\n",
       "      <td>11.000000</td>\n",
       "    </tr>\n",
       "    <tr>\n",
       "      <th>max</th>\n",
       "      <td>456255.000000</td>\n",
       "      <td>1.000000</td>\n",
       "      <td>19.000000</td>\n",
       "      <td>1.170000e+08</td>\n",
       "      <td>4.050000e+06</td>\n",
       "      <td>258025.500000</td>\n",
       "      <td>4.050000e+06</td>\n",
       "      <td>0.072508</td>\n",
       "      <td>25229.000000</td>\n",
       "      <td>365243.000000</td>\n",
       "      <td>...</td>\n",
       "      <td>1.000000</td>\n",
       "      <td>9.000000</td>\n",
       "      <td>8.000000</td>\n",
       "      <td>27.000000</td>\n",
       "      <td>261.000000</td>\n",
       "      <td>25.000000</td>\n",
       "      <td>69.000000</td>\n",
       "      <td>1000.000000</td>\n",
       "      <td>67.000000</td>\n",
       "      <td>19.000000</td>\n",
       "    </tr>\n",
       "  </tbody>\n",
       "</table>\n",
       "<p>8 rows × 64 columns</p>\n",
       "</div>"
      ],
      "text/plain": [
       "          SK_ID_CURR         TARGET   CNT_CHILDREN  AMT_INCOME_TOTAL  \\\n",
       "count  305820.000000  305820.000000  305820.000000      3.058200e+05   \n",
       "mean   278188.472039       0.080887       0.417187      1.686781e+05   \n",
       "std    102785.791346       0.272663       0.722324      2.374952e+05   \n",
       "min    100002.000000       0.000000       0.000000      2.565000e+04   \n",
       "25%    189155.750000       0.000000       0.000000      1.125000e+05   \n",
       "50%    278210.500000       0.000000       0.000000      1.467607e+05   \n",
       "75%    367152.500000       0.000000       1.000000      2.025000e+05   \n",
       "max    456255.000000       1.000000      19.000000      1.170000e+08   \n",
       "\n",
       "         AMT_CREDIT    AMT_ANNUITY  AMT_GOODS_PRICE  \\\n",
       "count  3.058200e+05  305820.000000     3.058200e+05   \n",
       "mean   5.997873e+05   27132.676913     5.388654e+05   \n",
       "std    4.026801e+05   14483.124889     3.694261e+05   \n",
       "min    4.500000e+04    1615.500000     4.050000e+04   \n",
       "25%    2.700000e+05   16573.500000     2.385000e+05   \n",
       "50%    5.172660e+05   24939.000000     4.500000e+05   \n",
       "75%    8.086500e+05   34614.000000     6.795000e+05   \n",
       "max    4.050000e+06  258025.500000     4.050000e+06   \n",
       "\n",
       "       REGION_POPULATION_RELATIVE     DAYS_BIRTH  DAYS_EMPLOYED  ...  \\\n",
       "count               305820.000000  305820.000000  305820.000000  ...   \n",
       "mean                     0.020845   16036.888353   67698.537195  ...   \n",
       "std                      0.013809    4363.116386  139421.301661  ...   \n",
       "min                      0.000290    7489.000000       0.000000  ...   \n",
       "25%                      0.010006   12413.000000     933.000000  ...   \n",
       "50%                      0.018850   15749.000000    2219.000000  ...   \n",
       "75%                      0.028663   19679.000000    5706.000000  ...   \n",
       "max                      0.072508   25229.000000  365243.000000  ...   \n",
       "\n",
       "       FLAG_DOCUMENT_21  AMT_REQ_CREDIT_BUREAU_DAY  \\\n",
       "count     305820.000000              305820.000000   \n",
       "mean           0.000334                   0.006056   \n",
       "std            0.018260                   0.102942   \n",
       "min            0.000000                   0.000000   \n",
       "25%            0.000000                   0.000000   \n",
       "50%            0.000000                   0.000000   \n",
       "75%            0.000000                   0.000000   \n",
       "max            1.000000                   9.000000   \n",
       "\n",
       "       AMT_REQ_CREDIT_BUREAU_WEEK  AMT_REQ_CREDIT_BUREAU_MON  \\\n",
       "count               305820.000000              305820.000000   \n",
       "mean                     0.029763                   0.231496   \n",
       "std                      0.190593                   0.856654   \n",
       "min                      0.000000                   0.000000   \n",
       "25%                      0.000000                   0.000000   \n",
       "50%                      0.000000                   0.000000   \n",
       "75%                      0.000000                   0.000000   \n",
       "max                      8.000000                  27.000000   \n",
       "\n",
       "       AMT_REQ_CREDIT_BUREAU_QRT  AMT_REQ_CREDIT_BUREAU_YEAR      Age_Years  \\\n",
       "count              305820.000000               305820.000000  305820.000000   \n",
       "mean                    0.230067                    1.645605      43.435675   \n",
       "std                     0.745010                    1.856160      11.952230   \n",
       "min                     0.000000                    0.000000      20.000000   \n",
       "25%                     0.000000                    0.000000      34.000000   \n",
       "50%                     0.000000                    1.000000      43.000000   \n",
       "75%                     0.000000                    3.000000      53.000000   \n",
       "max                   261.000000                   25.000000      69.000000   \n",
       "\n",
       "       Years_Employed  Years_Registration  Year_ID_publish  \n",
       "count   305820.000000       305820.000000    305820.000000  \n",
       "mean       184.949742           13.165270         7.714548  \n",
       "std        381.910692            9.644208         4.134191  \n",
       "min          0.000000            0.000000         0.000000  \n",
       "25%          2.000000            5.000000         4.000000  \n",
       "50%          6.000000           12.000000         8.000000  \n",
       "75%         15.000000           20.000000        11.000000  \n",
       "max       1000.000000           67.000000        19.000000  \n",
       "\n",
       "[8 rows x 64 columns]"
      ]
     },
     "execution_count": 335,
     "metadata": {},
     "output_type": "execute_result"
    }
   ],
   "source": [
    "app.describe()"
   ]
  },
  {
   "cell_type": "code",
   "execution_count": 336,
   "id": "5d8069bd",
   "metadata": {},
   "outputs": [
    {
     "data": {
      "text/plain": [
       "F      201285\n",
       "M      104531\n",
       "XNA         4\n",
       "Name: CODE_GENDER, dtype: int64"
      ]
     },
     "execution_count": 336,
     "metadata": {},
     "output_type": "execute_result"
    }
   ],
   "source": [
    "app['CODE_GENDER'].value_counts()"
   ]
  },
  {
   "cell_type": "code",
   "execution_count": 337,
   "id": "685c2daf",
   "metadata": {},
   "outputs": [],
   "source": [
    "#CODE_GENDER column contains XNA values lets drop them\n",
    "app = app[~(app['CODE_GENDER']=='XNA')]"
   ]
  },
  {
   "cell_type": "code",
   "execution_count": 338,
   "id": "c614987b",
   "metadata": {},
   "outputs": [
    {
     "data": {
      "text/plain": [
       "F    201285\n",
       "M    104531\n",
       "Name: CODE_GENDER, dtype: int64"
      ]
     },
     "execution_count": 338,
     "metadata": {},
     "output_type": "execute_result"
    }
   ],
   "source": [
    "app['CODE_GENDER'].value_counts()"
   ]
  },
  {
   "cell_type": "code",
   "execution_count": 339,
   "id": "213a0a18",
   "metadata": {},
   "outputs": [],
   "source": [
    "#there are 2 target variables 1.Non-Defaulters 2.Defaulters lets seperate them \n",
    "#1.Non-Defaulters\n",
    "app_ND = app[app['TARGET']==0]"
   ]
  },
  {
   "cell_type": "code",
   "execution_count": 340,
   "id": "6481a4b8",
   "metadata": {},
   "outputs": [
    {
     "data": {
      "text/plain": [
       "0    281079\n",
       "Name: TARGET, dtype: int64"
      ]
     },
     "execution_count": 340,
     "metadata": {},
     "output_type": "execute_result"
    }
   ],
   "source": [
    "app_ND['TARGET'].value_counts()"
   ]
  },
  {
   "cell_type": "code",
   "execution_count": 341,
   "id": "48624151",
   "metadata": {},
   "outputs": [],
   "source": [
    "#2.Defaulters\n",
    "app_D = app[app['TARGET']==1]"
   ]
  },
  {
   "cell_type": "code",
   "execution_count": 342,
   "id": "f0499442",
   "metadata": {},
   "outputs": [
    {
     "data": {
      "text/plain": [
       "1    24737\n",
       "Name: TARGET, dtype: int64"
      ]
     },
     "execution_count": 342,
     "metadata": {},
     "output_type": "execute_result"
    }
   ],
   "source": [
    "app_D['TARGET'].value_counts()"
   ]
  },
  {
   "cell_type": "code",
   "execution_count": 343,
   "id": "b36137b6",
   "metadata": {},
   "outputs": [],
   "source": [
    "#Analysis\n",
    "#Univatiate analysis"
   ]
  },
  {
   "cell_type": "code",
   "execution_count": 344,
   "id": "919b5f37",
   "metadata": {},
   "outputs": [
    {
     "name": "stdout",
     "output_type": "stream",
     "text": [
      "<class 'pandas.core.frame.DataFrame'>\n",
      "Int64Index: 305816 entries, 0 to 307510\n",
      "Data columns (total 77 columns):\n",
      " #   Column                       Non-Null Count   Dtype  \n",
      "---  ------                       --------------   -----  \n",
      " 0   SK_ID_CURR                   305816 non-null  int64  \n",
      " 1   TARGET                       305816 non-null  int64  \n",
      " 2   NAME_CONTRACT_TYPE           305816 non-null  object \n",
      " 3   CODE_GENDER                  305816 non-null  object \n",
      " 4   FLAG_OWN_CAR                 305816 non-null  object \n",
      " 5   FLAG_OWN_REALTY              305816 non-null  object \n",
      " 6   CNT_CHILDREN                 305816 non-null  int64  \n",
      " 7   AMT_INCOME_TOTAL             305816 non-null  float64\n",
      " 8   AMT_CREDIT                   305816 non-null  float64\n",
      " 9   AMT_ANNUITY                  305816 non-null  float64\n",
      " 10  AMT_GOODS_PRICE              305816 non-null  float64\n",
      " 11  NAME_TYPE_SUITE              305816 non-null  object \n",
      " 12  NAME_INCOME_TYPE             305816 non-null  object \n",
      " 13  NAME_EDUCATION_TYPE          305816 non-null  object \n",
      " 14  NAME_FAMILY_STATUS           305816 non-null  object \n",
      " 15  NAME_HOUSING_TYPE            305816 non-null  object \n",
      " 16  REGION_POPULATION_RELATIVE   305816 non-null  float64\n",
      " 17  DAYS_BIRTH                   305816 non-null  int64  \n",
      " 18  DAYS_EMPLOYED                305816 non-null  int64  \n",
      " 19  DAYS_REGISTRATION            305816 non-null  float64\n",
      " 20  DAYS_ID_PUBLISH              305816 non-null  int64  \n",
      " 21  FLAG_MOBIL                   305816 non-null  int64  \n",
      " 22  FLAG_EMP_PHONE               305816 non-null  int64  \n",
      " 23  FLAG_WORK_PHONE              305816 non-null  int64  \n",
      " 24  FLAG_CONT_MOBILE             305816 non-null  int64  \n",
      " 25  FLAG_PHONE                   305816 non-null  int64  \n",
      " 26  FLAG_EMAIL                   305816 non-null  int64  \n",
      " 27  OCCUPATION_TYPE              305816 non-null  object \n",
      " 28  CNT_FAM_MEMBERS              305816 non-null  float64\n",
      " 29  REGION_RATING_CLIENT         305816 non-null  int64  \n",
      " 30  REGION_RATING_CLIENT_W_CITY  305816 non-null  int64  \n",
      " 31  WEEKDAY_APPR_PROCESS_START   305816 non-null  object \n",
      " 32  HOUR_APPR_PROCESS_START      305816 non-null  int64  \n",
      " 33  REG_REGION_NOT_LIVE_REGION   305816 non-null  int64  \n",
      " 34  REG_REGION_NOT_WORK_REGION   305816 non-null  int64  \n",
      " 35  LIVE_REGION_NOT_WORK_REGION  305816 non-null  int64  \n",
      " 36  REG_CITY_NOT_LIVE_CITY       305816 non-null  int64  \n",
      " 37  REG_CITY_NOT_WORK_CITY       305816 non-null  int64  \n",
      " 38  LIVE_CITY_NOT_WORK_CITY      305816 non-null  int64  \n",
      " 39  ORGANIZATION_TYPE            305816 non-null  object \n",
      " 40  EXT_SOURCE_2                 305816 non-null  float64\n",
      " 41  EXT_SOURCE_3                 305816 non-null  float64\n",
      " 42  OBS_30_CNT_SOCIAL_CIRCLE     305816 non-null  float64\n",
      " 43  DEF_30_CNT_SOCIAL_CIRCLE     305816 non-null  float64\n",
      " 44  OBS_60_CNT_SOCIAL_CIRCLE     305816 non-null  float64\n",
      " 45  DEF_60_CNT_SOCIAL_CIRCLE     305816 non-null  float64\n",
      " 46  DAYS_LAST_PHONE_CHANGE       305816 non-null  float64\n",
      " 47  FLAG_DOCUMENT_2              305816 non-null  int64  \n",
      " 48  FLAG_DOCUMENT_3              305816 non-null  int64  \n",
      " 49  FLAG_DOCUMENT_4              305816 non-null  int64  \n",
      " 50  FLAG_DOCUMENT_5              305816 non-null  int64  \n",
      " 51  FLAG_DOCUMENT_6              305816 non-null  int64  \n",
      " 52  FLAG_DOCUMENT_7              305816 non-null  int64  \n",
      " 53  FLAG_DOCUMENT_8              305816 non-null  int64  \n",
      " 54  FLAG_DOCUMENT_9              305816 non-null  int64  \n",
      " 55  FLAG_DOCUMENT_10             305816 non-null  int64  \n",
      " 56  FLAG_DOCUMENT_11             305816 non-null  int64  \n",
      " 57  FLAG_DOCUMENT_12             305816 non-null  int64  \n",
      " 58  FLAG_DOCUMENT_13             305816 non-null  int64  \n",
      " 59  FLAG_DOCUMENT_14             305816 non-null  int64  \n",
      " 60  FLAG_DOCUMENT_15             305816 non-null  int64  \n",
      " 61  FLAG_DOCUMENT_16             305816 non-null  int64  \n",
      " 62  FLAG_DOCUMENT_17             305816 non-null  int64  \n",
      " 63  FLAG_DOCUMENT_18             305816 non-null  int64  \n",
      " 64  FLAG_DOCUMENT_19             305816 non-null  int64  \n",
      " 65  FLAG_DOCUMENT_20             305816 non-null  int64  \n",
      " 66  FLAG_DOCUMENT_21             305816 non-null  int64  \n",
      " 67  AMT_REQ_CREDIT_BUREAU_HOUR   305816 non-null  object \n",
      " 68  AMT_REQ_CREDIT_BUREAU_DAY    305816 non-null  float64\n",
      " 69  AMT_REQ_CREDIT_BUREAU_WEEK   305816 non-null  float64\n",
      " 70  AMT_REQ_CREDIT_BUREAU_MON    305816 non-null  float64\n",
      " 71  AMT_REQ_CREDIT_BUREAU_QRT    305816 non-null  float64\n",
      " 72  AMT_REQ_CREDIT_BUREAU_YEAR   305816 non-null  float64\n",
      " 73  Age_Years                    305816 non-null  int64  \n",
      " 74  Years_Employed               305816 non-null  int64  \n",
      " 75  Years_Registration           305816 non-null  float64\n",
      " 76  Year_ID_publish              305816 non-null  int64  \n",
      "dtypes: float64(20), int64(44), object(13)\n",
      "memory usage: 182.0+ MB\n"
     ]
    }
   ],
   "source": [
    "app.info()"
   ]
  },
  {
   "cell_type": "code",
   "execution_count": 345,
   "id": "1d329474",
   "metadata": {},
   "outputs": [],
   "source": [
    "#1.Check for outliers and univariate analysis\n"
   ]
  },
  {
   "cell_type": "code",
   "execution_count": 346,
   "id": "50513f89",
   "metadata": {},
   "outputs": [
    {
     "data": {
      "image/png": "[encoded data removed]",
      "text/plain": [
       "<Figure size 720x360 with 1 Axes>"
      ]
     },
     "metadata": {
      "needs_background": "light"
     },
     "output_type": "display_data"
    }
   ],
   "source": [
    "#Outliers in AMT_CREDIT\n",
    "plt.figure(figsize=(10,5))\n",
    "tick = np.arange(0,6000000,1000000)\n",
    "b = sns.boxplot(app['AMT_CREDIT'])\n",
    "b.set_xticks(tick)\n",
    "b.set_xticklabels(['{}M'.format(i//1000000) for i in tick])\n",
    "plt.show()\n",
    "#here there are few outliers who took the high amount of credit of around 4+ Millions\n",
    "#the average loan amount taken by the clients is around 0.5M"
   ]
  },
  {
   "cell_type": "code",
   "execution_count": 347,
   "id": "e3571c2d",
   "metadata": {},
   "outputs": [
    {
     "data": {
      "image/png": "[encoded data removed]",
      "text/plain": [
       "<Figure size 720x360 with 1 Axes>"
      ]
     },
     "metadata": {
      "needs_background": "light"
     },
     "output_type": "display_data"
    }
   ],
   "source": [
    "#Outliers in AMT_INCOME_TOTAL\n",
    "plt.figure(figsize=(10,5))\n",
    "ticks = np.arange(0,130000000,10000000)\n",
    "bx = sns.boxplot(app['AMT_INCOME_TOTAL'])\n",
    "bx.set_xticks(ticks)\n",
    "bx.set_xticklabels(['{}M'.format(i//1000000) for i in ticks])\n",
    "plt.show()\n",
    "#There is one outliers whose total income is around 115+ Millions\n",
    "#The average income of clients is very less around 0 to 0.5 millions "
   ]
  },
  {
   "cell_type": "code",
   "execution_count": 348,
   "id": "dc5c335e",
   "metadata": {},
   "outputs": [
    {
     "data": {
      "image/png": "[encoded data removed]",
      "text/plain": [
       "<Figure size 720x360 with 1 Axes>"
      ]
     },
     "metadata": {
      "needs_background": "light"
     },
     "output_type": "display_data"
    }
   ],
   "source": [
    "#Outliers in AMT_GOODS_PRICE\n",
    "plt.figure(figsize=(10,5))\n",
    "a = sns.boxplot(app['AMT_GOODS_PRICE'])\n",
    "a.set_xticks(tick)\n",
    "a.set_xticklabels(['{}M'.format(i//1000000) for i in tick])\n",
    "plt.show()\n",
    "#there are few outliers who took loan of around 3.5M to 4.2M good price\n",
    "#The average good price is around 0.5 millions on which clients spend their loan amount"
   ]
  },
  {
   "cell_type": "code",
   "execution_count": 349,
   "id": "ba4c3b25",
   "metadata": {},
   "outputs": [
    {
     "data": {
      "image/png": "[encoded data removed]",
      "text/plain": [
       "<Figure size 720x360 with 1 Axes>"
      ]
     },
     "metadata": {
      "needs_background": "light"
     },
     "output_type": "display_data"
    }
   ],
   "source": [
    "#Check outliers in age of clients\n",
    "plt.figure(figsize=(10,5))\n",
    "sns.boxplot(app['Age_Years'])\n",
    "plt.show()\n",
    "#there are no outliers in age column\n",
    "#The average age of the clients is around 42 years"
   ]
  },
  {
   "cell_type": "code",
   "execution_count": 350,
   "id": "6ad7af6c",
   "metadata": {},
   "outputs": [
    {
     "data": {
      "text/plain": [
       "F    201285\n",
       "M    104531\n",
       "Name: CODE_GENDER, dtype: int64"
      ]
     },
     "execution_count": 350,
     "metadata": {},
     "output_type": "execute_result"
    }
   ],
   "source": [
    "# Analysis of gender of clients\n",
    "app['CODE_GENDER'].value_counts()"
   ]
  },
  {
   "cell_type": "code",
   "execution_count": 257,
   "id": "2b7b6065",
   "metadata": {},
   "outputs": [
    {
     "data": {
      "text/plain": [
       "<AxesSubplot:xlabel='CODE_GENDER', ylabel='count'>"
      ]
     },
     "execution_count": 257,
     "metadata": {},
     "output_type": "execute_result"
    },
    {
     "data": {
      "image/png": "[encoded data removed]",
      "text/plain": [
       "<Figure size 432x288 with 1 Axes>"
      ]
     },
     "metadata": {
      "needs_background": "light"
     },
     "output_type": "display_data"
    }
   ],
   "source": [
    "sns.countplot(app['CODE_GENDER'])\n",
    "#there are almost 2X female clients than mail clients"
   ]
  },
  {
   "cell_type": "code",
   "execution_count": 379,
   "id": "c187ee16",
   "metadata": {},
   "outputs": [
    {
     "data": {
      "image/png": "[encoded data removed]",
      "text/plain": [
       "<Figure size 432x288 with 1 Axes>"
      ]
     },
     "metadata": {
      "needs_background": "light"
     },
     "output_type": "display_data"
    }
   ],
   "source": [
    "#Analysis of NAME_INCOME_TYPE\n",
    "app['NAME_INCOME_TYPE'].value_counts().plot.bar()\n",
    "plt.show()\n",
    "# Most of the credit applicants are working "
   ]
  },
  {
   "cell_type": "code",
   "execution_count": 380,
   "id": "b8f0c3cf",
   "metadata": {},
   "outputs": [
    {
     "data": {
      "text/plain": [
       "<AxesSubplot:>"
      ]
     },
     "execution_count": 380,
     "metadata": {},
     "output_type": "execute_result"
    },
    {
     "data": {
      "image/png": "[encoded data removed]",
      "text/plain": [
       "<Figure size 432x288 with 1 Axes>"
      ]
     },
     "metadata": {
      "needs_background": "light"
     },
     "output_type": "display_data"
    }
   ],
   "source": [
    "#Analysis of NAME_EDUCATION_TYPE \n",
    "app['NAME_EDUCATION_TYPE'].value_counts().plot.bar()\n",
    "#most fo the applicants are applied for loan whos education is secondary or secondary special\n",
    "# People who completed thier acadamic degree have good job and have money thats why number of people are less"
   ]
  },
  {
   "cell_type": "code",
   "execution_count": 386,
   "id": "bbbee597",
   "metadata": {},
   "outputs": [
    {
     "data": {
      "text/plain": [
       "Text(0.5, 1.0, 'Defaulters')"
      ]
     },
     "execution_count": 386,
     "metadata": {},
     "output_type": "execute_result"
    },
    {
     "data": {
      "image/png": "[encoded data removed]",
      "text/plain": [
       "<Figure size 720x360 with 2 Axes>"
      ]
     },
     "metadata": {
      "needs_background": "light"
     },
     "output_type": "display_data"
    }
   ],
   "source": [
    "#analysis on defaulyers and non defaulters (Gender wise)\n",
    "plt.figure(figsize=(10,5))\n",
    "plt.subplot(1,2,1)\n",
    "sns.countplot(app_ND['CODE_GENDER'])\n",
    "plt.title('Non-Defaulters')\n",
    "plt.subplot(1,2,2)\n",
    "sns.countplot(app_D['CODE_GENDER'])\n",
    "plt.title('Defaulters')\n",
    "#as we can see on graph females have more count of non defaulters than males same for defaulters aso but if we copare both \n",
    "## defaulters and non defaulters graphs males are more defaulters than non defaulters as males facing more problems to repay the loan"
   ]
  },
  {
   "cell_type": "code",
   "execution_count": 420,
   "id": "6148c7e8",
   "metadata": {},
   "outputs": [
    {
     "data": {
      "image/png": "[encoded data removed]",
      "text/plain": [
       "<Figure size 720x360 with 2 Axes>"
      ]
     },
     "metadata": {
      "needs_background": "light"
     },
     "output_type": "display_data"
    }
   ],
   "source": [
    "#Education type\n",
    "plt.figure(figsize=(10,5))\n",
    "plt.subplot(1,2,1)\n",
    "sns.countplot(app_ND['NAME_EDUCATION_TYPE'])\n",
    "plt.xticks(rotation = 90)\n",
    "plt.title('Non-Defaulters')\n",
    "plt.subplot(1,2,2)\n",
    "sns.countplot(app_D['NAME_EDUCATION_TYPE'])\n",
    "plt.xticks(rotation = 90)\n",
    "plt.title('Defaulters')\n",
    "plt.show()\n",
    "#As we observe in the graph clients who completed their secondary education are higher in Defaulter as well as in non defaulters"
   ]
  },
  {
   "cell_type": "code",
   "execution_count": 410,
   "id": "116a4000",
   "metadata": {},
   "outputs": [
    {
     "data": {
      "image/png": "[encoded data removed]",
      "text/plain": [
       "<Figure size 720x360 with 2 Axes>"
      ]
     },
     "metadata": {
      "needs_background": "light"
     },
     "output_type": "display_data"
    }
   ],
   "source": [
    "#income type\n",
    "plt.figure(figsize=(10,5))\n",
    "plt.subplot(1,2,1)\n",
    "sns.countplot(app_ND['NAME_INCOME_TYPE'])\n",
    "plt.xticks(rotation = 90)\n",
    "plt.title('Non-Defaulters')\n",
    "plt.subplot(1,2,2)\n",
    "sns.countplot(app_D['NAME_INCOME_TYPE'])\n",
    "plt.xticks(rotation = 90)\n",
    "plt.title('Defaulters')\n",
    "plt.show()"
   ]
  },
  {
   "cell_type": "code",
   "execution_count": 414,
   "id": "d6bda31f",
   "metadata": {},
   "outputs": [
    {
     "data": {
      "image/png": "[encoded data removed]",
      "text/plain": [
       "<Figure size 720x360 with 2 Axes>"
      ]
     },
     "metadata": {
      "needs_background": "light"
     },
     "output_type": "display_data"
    }
   ],
   "source": [
    "#analysis on age group \n",
    "plt.figure(figsize=(10,5))\n",
    "plt.subplot(1,2,1)\n",
    "sns.distplot(app_ND['Age_Years'],bins =10,hist = False)\n",
    "plt.title('Non-Defaulters')\n",
    "plt.subplot(1,2,2)\n",
    "sns.distplot(app_D['Age_Years'],bins = 10,hist = False)\n",
    "plt.title('Defaulters')\n",
    "plt.show()\n",
    "# As per observation of graph number of defaulters are decreasing as increasing the age group"
   ]
  },
  {
   "cell_type": "code",
   "execution_count": 419,
   "id": "35857976",
   "metadata": {},
   "outputs": [
    {
     "data": {
      "image/png": "[encoded data removed]",
      "text/plain": [
       "<Figure size 720x360 with 2 Axes>"
      ]
     },
     "metadata": {
      "needs_background": "light"
     },
     "output_type": "display_data"
    }
   ],
   "source": [
    "#Analysis on basis of clients period of existance Years_Registration\n",
    "plt.figure(figsize=(10,5))\n",
    "plt.subplot(1,2,1)\n",
    "sns.distplot(app_ND['Years_Registration'],bins =1,hist = False)\n",
    "plt.title('Non-Defaulters')\n",
    "plt.subplot(1,2,2)\n",
    "sns.distplot(app_D['Years_Registration'],bins = 1,hist = False)\n",
    "plt.title('Defaulters')\n",
    "plt.show()\n",
    "# there is not much difference in both plots"
   ]
  },
  {
   "cell_type": "code",
   "execution_count": null,
   "id": "70cc6cdd",
   "metadata": {},
   "outputs": [],
   "source": [
    "#BIVARIATE Analysis\n"
   ]
  },
  {
   "cell_type": "code",
   "execution_count": null,
   "id": "c92119e6",
   "metadata": {},
   "outputs": [],
   "source": [
    "#income vs age"
   ]
  },
  {
   "cell_type": "code",
   "execution_count": 437,
   "id": "97336f39",
   "metadata": {},
   "outputs": [
    {
     "data": {
      "image/png": "[encoded data removed]",
      "text/plain": [
       "<Figure size 720x360 with 1 Axes>"
      ]
     },
     "metadata": {
      "needs_background": "light"
     },
     "output_type": "display_data"
    }
   ],
   "source": [
    "plt.figure(figsize=(10,5))\n",
    "plt.scatter(app_ND['Age_Years'],app_ND['AMT_INCOME_TOTAL'],s=100,alpha = 0.7,c = 'red',label = 'Non_Defaulters')\n",
    "plt.scatter(app_D['Age_Years'],app_D['AMT_INCOME_TOTAL'],s=100,alpha = 0.7,c = 'green',label = 'Defaulters')\n",
    "plt.title('Income vs Age')\n",
    "plt.show()"
   ]
  },
  {
   "cell_type": "code",
   "execution_count": null,
   "id": "cafa7d5f",
   "metadata": {},
   "outputs": [],
   "source": [
    "#credit amount vs age\n"
   ]
  },
  {
   "cell_type": "code",
   "execution_count": 448,
   "id": "9cb9928c",
   "metadata": {},
   "outputs": [
    {
     "data": {
      "image/png": "[encoded data removed]",
      "text/plain": [
       "<Figure size 864x720 with 1 Axes>"
      ]
     },
     "metadata": {
      "needs_background": "light"
     },
     "output_type": "display_data"
    }
   ],
   "source": [
    "plt.figure(figsize=(12,10))\n",
    "sns.boxplot(x = app_ND['Age_Years'],y = app_ND['AMT_CREDIT'])\n",
    "#tick = np.arange(0,4000000,500000)\n",
    "#bx.set_yticklabels(['{}M'.format(i//500000) for i in tick])\n",
    "plt.title('Credit amount vs Age')\n",
    "plt.show()\n",
    "#as age increases avg credit amount increases also after some interval of age around 50years again avg credit amount decreases"
   ]
  },
  {
   "cell_type": "code",
   "execution_count": 450,
   "id": "aa4cff31",
   "metadata": {},
   "outputs": [
    {
     "data": {
      "image/png": "[encoded data removed]",
      "text/plain": [
       "<Figure size 864x720 with 1 Axes>"
      ]
     },
     "metadata": {
      "needs_background": "light"
     },
     "output_type": "display_data"
    }
   ],
   "source": [
    "#Credit vs family status\n",
    "plt.figure(figsize=(12,10))\n",
    "plt.xticks(rotation=45)\n",
    "sns.boxplot(data =app_ND, x='NAME_EDUCATION_TYPE',y='AMT_CREDIT', hue ='NAME_FAMILY_STATUS')\n",
    "plt.title('credit vs family status(NON _DEFAULTERS)')\n",
    "plt.show()"
   ]
  },
  {
   "cell_type": "code",
   "execution_count": 452,
   "id": "dc809717",
   "metadata": {},
   "outputs": [
    {
     "data": {
      "image/png": "[encoded data removed]",
      "text/plain": [
       "<Figure size 432x288 with 1 Axes>"
      ]
     },
     "metadata": {
      "needs_background": "light"
     },
     "output_type": "display_data"
    }
   ],
   "source": [
    "#Credit amount vs contract type NAME_CONTRACT_TYPE\n",
    "sns.barplot(x = app_ND['NAME_CONTRACT_TYPE'],y =app_ND['AMT_CREDIT'])\n",
    "plt.title('Credit amount vs contract type')\n",
    "plt.show()\n",
    "#cash loans are more than revolving loans"
   ]
  },
  {
   "cell_type": "code",
   "execution_count": 453,
   "id": "c9fcd26f",
   "metadata": {},
   "outputs": [
    {
     "data": {
      "image/png": "[encoded data removed]",
      "text/plain": [
       "<Figure size 432x288 with 1 Axes>"
      ]
     },
     "metadata": {
      "needs_background": "light"
     },
     "output_type": "display_data"
    }
   ],
   "source": [
    "#Gender vs credit amount\n",
    "sns.barplot(x = app_ND['CODE_GENDER'],y =app_ND['AMT_CREDIT'])\n",
    "plt.title('Gender vs credit amount')\n",
    "plt.show()\n",
    "#males are took more credit amount than females "
   ]
  },
  {
   "cell_type": "code",
   "execution_count": 461,
   "id": "2f65c1d7",
   "metadata": {},
   "outputs": [
    {
     "data": {
      "image/png": "[encoded data removed]",
      "text/plain": [
       "<Figure size 432x288 with 2 Axes>"
      ]
     },
     "metadata": {
      "needs_background": "light"
     },
     "output_type": "display_data"
    }
   ],
   "source": [
    "#Correlation\n",
    "sns.heatmap(app[['AMT_INCOME_TOTAL','AMT_CREDIT']].corr(),annot = True)\n",
    "plt.show()"
   ]
  },
  {
   "cell_type": "code",
   "execution_count": null,
   "id": "2c1b6aee",
   "metadata": {},
   "outputs": [],
   "source": []
  }
 ],
 "metadata": {
  "kernelspec": {
   "display_name": "Python 3",
   "language": "python",
   "name": "python3"
  },
  "language_info": {
   "codemirror_mode": {
    "name": "ipython",
    "version": 3
   },
   "file_extension": ".py",
   "mimetype": "text/x-python",
   "name": "python",
   "nbconvert_exporter": "python",
   "pygments_lexer": "ipython3",
   "version": "3.8.8"
  }
 },
 "nbformat": 4,
 "nbformat_minor": 5
}
